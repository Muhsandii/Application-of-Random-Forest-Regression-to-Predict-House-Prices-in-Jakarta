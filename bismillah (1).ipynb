{
 "cells": [
  {
   "cell_type": "markdown",
   "id": "9fe2adae-91c1-463e-88f3-ece4e1ebd1d4",
   "metadata": {},
   "source": [
    "Import Modul yang diperlukan"
   ]
  },
  {
   "cell_type": "code",
   "execution_count": 9,
   "id": "c301d017-42e1-408a-ac34-3c5f278d7a57",
   "metadata": {},
   "outputs": [],
   "source": [
    "import pandas as pd\n",
    "import numpy as np\n",
    "import matplotlib.pyplot as plt\n",
    "import seaborn as sns"
   ]
  },
  {
   "cell_type": "code",
   "execution_count": 10,
   "id": "61330932-4394-4eb8-a0ac-3d2046dfaa59",
   "metadata": {},
   "outputs": [],
   "source": [
    "#Membuka file data rumah\n",
    "data = pd.read_excel(\"rumah.xls\")"
   ]
  },
  {
   "cell_type": "code",
   "execution_count": 11,
   "id": "6eb9050c-ec57-48a3-a3ac-e9e73b007e61",
   "metadata": {},
   "outputs": [
    {
     "data": {
      "text/html": [
       "<div>\n",
       "<style scoped>\n",
       "    .dataframe tbody tr th:only-of-type {\n",
       "        vertical-align: middle;\n",
       "    }\n",
       "\n",
       "    .dataframe tbody tr th {\n",
       "        vertical-align: top;\n",
       "    }\n",
       "\n",
       "    .dataframe thead th {\n",
       "        text-align: right;\n",
       "    }\n",
       "</style>\n",
       "<table border=\"1\" class=\"dataframe\">\n",
       "  <thead>\n",
       "    <tr style=\"text-align: right;\">\n",
       "      <th></th>\n",
       "      <th>harga</th>\n",
       "      <th>luas_tanah</th>\n",
       "      <th>luas_bangunan</th>\n",
       "      <th>kamar_tidur</th>\n",
       "      <th>kamar_mandi</th>\n",
       "      <th>lantai</th>\n",
       "      <th>lokasi</th>\n",
       "    </tr>\n",
       "  </thead>\n",
       "  <tbody>\n",
       "    <tr>\n",
       "      <th>0</th>\n",
       "      <td>1900000000</td>\n",
       "      <td>118</td>\n",
       "      <td>80</td>\n",
       "      <td>3</td>\n",
       "      <td>1</td>\n",
       "      <td>1</td>\n",
       "      <td>jakarta_pusat</td>\n",
       "    </tr>\n",
       "    <tr>\n",
       "      <th>1</th>\n",
       "      <td>1400000000</td>\n",
       "      <td>52</td>\n",
       "      <td>102</td>\n",
       "      <td>4</td>\n",
       "      <td>2</td>\n",
       "      <td>2</td>\n",
       "      <td>jakarta_pusat</td>\n",
       "    </tr>\n",
       "    <tr>\n",
       "      <th>2</th>\n",
       "      <td>1500000000</td>\n",
       "      <td>91</td>\n",
       "      <td>91</td>\n",
       "      <td>10</td>\n",
       "      <td>6</td>\n",
       "      <td>3</td>\n",
       "      <td>jakarta_pusat</td>\n",
       "    </tr>\n",
       "    <tr>\n",
       "      <th>3</th>\n",
       "      <td>2500000000</td>\n",
       "      <td>105</td>\n",
       "      <td>150</td>\n",
       "      <td>5</td>\n",
       "      <td>4</td>\n",
       "      <td>2</td>\n",
       "      <td>jakarta_pusat</td>\n",
       "    </tr>\n",
       "    <tr>\n",
       "      <th>4</th>\n",
       "      <td>4000000000</td>\n",
       "      <td>160</td>\n",
       "      <td>160</td>\n",
       "      <td>4</td>\n",
       "      <td>3</td>\n",
       "      <td>1</td>\n",
       "      <td>jakarta_pusat</td>\n",
       "    </tr>\n",
       "    <tr>\n",
       "      <th>...</th>\n",
       "      <td>...</td>\n",
       "      <td>...</td>\n",
       "      <td>...</td>\n",
       "      <td>...</td>\n",
       "      <td>...</td>\n",
       "      <td>...</td>\n",
       "      <td>...</td>\n",
       "    </tr>\n",
       "    <tr>\n",
       "      <th>1134</th>\n",
       "      <td>27900000000</td>\n",
       "      <td>625</td>\n",
       "      <td>750</td>\n",
       "      <td>6</td>\n",
       "      <td>5</td>\n",
       "      <td>2</td>\n",
       "      <td>jakarta_barat</td>\n",
       "    </tr>\n",
       "    <tr>\n",
       "      <th>1135</th>\n",
       "      <td>6500000000</td>\n",
       "      <td>871</td>\n",
       "      <td>200</td>\n",
       "      <td>3</td>\n",
       "      <td>2</td>\n",
       "      <td>1</td>\n",
       "      <td>jakarta_barat</td>\n",
       "    </tr>\n",
       "    <tr>\n",
       "      <th>1136</th>\n",
       "      <td>2650000000</td>\n",
       "      <td>125</td>\n",
       "      <td>185</td>\n",
       "      <td>3</td>\n",
       "      <td>3</td>\n",
       "      <td>2</td>\n",
       "      <td>jakarta_barat</td>\n",
       "    </tr>\n",
       "    <tr>\n",
       "      <th>1137</th>\n",
       "      <td>3500000000</td>\n",
       "      <td>288</td>\n",
       "      <td>245</td>\n",
       "      <td>4</td>\n",
       "      <td>4</td>\n",
       "      <td>2</td>\n",
       "      <td>jakarta_barat</td>\n",
       "    </tr>\n",
       "    <tr>\n",
       "      <th>1138</th>\n",
       "      <td>3188000000</td>\n",
       "      <td>90</td>\n",
       "      <td>210</td>\n",
       "      <td>4</td>\n",
       "      <td>4</td>\n",
       "      <td>3</td>\n",
       "      <td>jakarta_barat</td>\n",
       "    </tr>\n",
       "  </tbody>\n",
       "</table>\n",
       "<p>1139 rows × 7 columns</p>\n",
       "</div>"
      ],
      "text/plain": [
       "            harga  luas_tanah  luas_bangunan  kamar_tidur  kamar_mandi  \\\n",
       "0      1900000000         118             80            3            1   \n",
       "1      1400000000          52            102            4            2   \n",
       "2      1500000000          91             91           10            6   \n",
       "3      2500000000         105            150            5            4   \n",
       "4      4000000000         160            160            4            3   \n",
       "...           ...         ...            ...          ...          ...   \n",
       "1134  27900000000         625            750            6            5   \n",
       "1135   6500000000         871            200            3            2   \n",
       "1136   2650000000         125            185            3            3   \n",
       "1137   3500000000         288            245            4            4   \n",
       "1138   3188000000          90            210            4            4   \n",
       "\n",
       "      lantai         lokasi  \n",
       "0          1  jakarta_pusat  \n",
       "1          2  jakarta_pusat  \n",
       "2          3  jakarta_pusat  \n",
       "3          2  jakarta_pusat  \n",
       "4          1  jakarta_pusat  \n",
       "...      ...            ...  \n",
       "1134       2  jakarta_barat  \n",
       "1135       1  jakarta_barat  \n",
       "1136       2  jakarta_barat  \n",
       "1137       2  jakarta_barat  \n",
       "1138       3  jakarta_barat  \n",
       "\n",
       "[1139 rows x 7 columns]"
      ]
     },
     "execution_count": 11,
     "metadata": {},
     "output_type": "execute_result"
    }
   ],
   "source": [
    "data"
   ]
  },
  {
   "cell_type": "markdown",
   "id": "a51a8933-639e-46fe-a51e-2951464526ad",
   "metadata": {},
   "source": [
    "Exploratory Data Analysis (EDA)"
   ]
  },
  {
   "cell_type": "code",
   "execution_count": 12,
   "id": "0c39e95d-b785-4297-b5e3-84ede37f10b9",
   "metadata": {},
   "outputs": [
    {
     "name": "stdout",
     "output_type": "stream",
     "text": [
      "<class 'pandas.core.frame.DataFrame'>\n",
      "RangeIndex: 1139 entries, 0 to 1138\n",
      "Data columns (total 7 columns):\n",
      " #   Column         Non-Null Count  Dtype \n",
      "---  ------         --------------  ----- \n",
      " 0   harga          1139 non-null   int64 \n",
      " 1   luas_tanah     1139 non-null   int64 \n",
      " 2   luas_bangunan  1139 non-null   int64 \n",
      " 3   kamar_tidur    1139 non-null   int64 \n",
      " 4   kamar_mandi    1139 non-null   int64 \n",
      " 5   lantai         1139 non-null   int64 \n",
      " 6   lokasi         1139 non-null   object\n",
      "dtypes: int64(6), object(1)\n",
      "memory usage: 62.4+ KB\n"
     ]
    }
   ],
   "source": [
    "#Menampilkan informasi data\n",
    "data.info()"
   ]
  },
  {
   "cell_type": "code",
   "execution_count": 13,
   "id": "5d2dbb09-ec75-4ec9-8dec-adb8b24ffe93",
   "metadata": {},
   "outputs": [
    {
     "data": {
      "text/html": [
       "<div>\n",
       "<style scoped>\n",
       "    .dataframe tbody tr th:only-of-type {\n",
       "        vertical-align: middle;\n",
       "    }\n",
       "\n",
       "    .dataframe tbody tr th {\n",
       "        vertical-align: top;\n",
       "    }\n",
       "\n",
       "    .dataframe thead th {\n",
       "        text-align: right;\n",
       "    }\n",
       "</style>\n",
       "<table border=\"1\" class=\"dataframe\">\n",
       "  <thead>\n",
       "    <tr style=\"text-align: right;\">\n",
       "      <th></th>\n",
       "      <th>harga</th>\n",
       "      <th>luas_tanah</th>\n",
       "      <th>luas_bangunan</th>\n",
       "      <th>kamar_tidur</th>\n",
       "      <th>kamar_mandi</th>\n",
       "      <th>lantai</th>\n",
       "    </tr>\n",
       "  </thead>\n",
       "  <tbody>\n",
       "    <tr>\n",
       "      <th>count</th>\n",
       "      <td>1.139000e+03</td>\n",
       "      <td>1139.000000</td>\n",
       "      <td>1139.000000</td>\n",
       "      <td>1139.000000</td>\n",
       "      <td>1139.000000</td>\n",
       "      <td>1139.000000</td>\n",
       "    </tr>\n",
       "    <tr>\n",
       "      <th>mean</th>\n",
       "      <td>4.274402e+09</td>\n",
       "      <td>181.100088</td>\n",
       "      <td>198.640913</td>\n",
       "      <td>3.877085</td>\n",
       "      <td>3.060579</td>\n",
       "      <td>2.011414</td>\n",
       "    </tr>\n",
       "    <tr>\n",
       "      <th>std</th>\n",
       "      <td>7.157735e+09</td>\n",
       "      <td>326.893374</td>\n",
       "      <td>192.216226</td>\n",
       "      <td>1.661830</td>\n",
       "      <td>1.433598</td>\n",
       "      <td>0.659426</td>\n",
       "    </tr>\n",
       "    <tr>\n",
       "      <th>min</th>\n",
       "      <td>8.500000e+07</td>\n",
       "      <td>16.000000</td>\n",
       "      <td>7.000000</td>\n",
       "      <td>1.000000</td>\n",
       "      <td>1.000000</td>\n",
       "      <td>1.000000</td>\n",
       "    </tr>\n",
       "    <tr>\n",
       "      <th>25%</th>\n",
       "      <td>1.200000e+09</td>\n",
       "      <td>67.000000</td>\n",
       "      <td>84.000000</td>\n",
       "      <td>3.000000</td>\n",
       "      <td>2.000000</td>\n",
       "      <td>2.000000</td>\n",
       "    </tr>\n",
       "    <tr>\n",
       "      <th>50%</th>\n",
       "      <td>2.400000e+09</td>\n",
       "      <td>108.000000</td>\n",
       "      <td>148.000000</td>\n",
       "      <td>4.000000</td>\n",
       "      <td>3.000000</td>\n",
       "      <td>2.000000</td>\n",
       "    </tr>\n",
       "    <tr>\n",
       "      <th>75%</th>\n",
       "      <td>4.500000e+09</td>\n",
       "      <td>200.000000</td>\n",
       "      <td>250.000000</td>\n",
       "      <td>5.000000</td>\n",
       "      <td>4.000000</td>\n",
       "      <td>2.000000</td>\n",
       "    </tr>\n",
       "    <tr>\n",
       "      <th>max</th>\n",
       "      <td>1.000000e+11</td>\n",
       "      <td>8200.000000</td>\n",
       "      <td>2700.000000</td>\n",
       "      <td>12.000000</td>\n",
       "      <td>10.000000</td>\n",
       "      <td>6.000000</td>\n",
       "    </tr>\n",
       "  </tbody>\n",
       "</table>\n",
       "</div>"
      ],
      "text/plain": [
       "              harga   luas_tanah  luas_bangunan  kamar_tidur  kamar_mandi  \\\n",
       "count  1.139000e+03  1139.000000    1139.000000  1139.000000  1139.000000   \n",
       "mean   4.274402e+09   181.100088     198.640913     3.877085     3.060579   \n",
       "std    7.157735e+09   326.893374     192.216226     1.661830     1.433598   \n",
       "min    8.500000e+07    16.000000       7.000000     1.000000     1.000000   \n",
       "25%    1.200000e+09    67.000000      84.000000     3.000000     2.000000   \n",
       "50%    2.400000e+09   108.000000     148.000000     4.000000     3.000000   \n",
       "75%    4.500000e+09   200.000000     250.000000     5.000000     4.000000   \n",
       "max    1.000000e+11  8200.000000    2700.000000    12.000000    10.000000   \n",
       "\n",
       "            lantai  \n",
       "count  1139.000000  \n",
       "mean      2.011414  \n",
       "std       0.659426  \n",
       "min       1.000000  \n",
       "25%       2.000000  \n",
       "50%       2.000000  \n",
       "75%       2.000000  \n",
       "max       6.000000  "
      ]
     },
     "execution_count": 13,
     "metadata": {},
     "output_type": "execute_result"
    }
   ],
   "source": [
    "data.describe()"
   ]
  },
  {
   "cell_type": "code",
   "execution_count": null,
   "id": "782dcd0c-9f91-4965-bf50-0b9ef6ac2496",
   "metadata": {},
   "outputs": [],
   "source": [
    "sns.histplot(data['harga'],kde=True)"
   ]
  },
  {
   "cell_type": "code",
   "execution_count": null,
   "id": "e28260f6-7a5b-4047-bdd2-62ce441a8689",
   "metadata": {},
   "outputs": [],
   "source": [
    "data['harga'] = np.log1p(data['harga'])\n",
    "sns.histplot(data['harga'],kde=True)"
   ]
  },
  {
   "cell_type": "code",
   "execution_count": null,
   "id": "ff8b2711-7a2e-44a3-8a7f-4d480dc5e3d5",
   "metadata": {},
   "outputs": [],
   "source": [
    "# Menghitung jumlah rumah dijual di setiap lokasi\n",
    "jumlah_rumah_per_lokasi = data['lokasi'].value_counts()\n",
    "\n",
    "# Menampilkan hasil\n",
    "print(jumlah_rumah_per_lokasi)"
   ]
  },
  {
   "cell_type": "code",
   "execution_count": null,
   "id": "35c2b3be-8057-403c-a743-f6efa678ebbd",
   "metadata": {},
   "outputs": [],
   "source": [
    "# Membuat histogram\n",
    "plt.bar(jumlah_rumah_per_lokasi.index, jumlah_rumah_per_lokasi.values, color='skyblue')\n",
    "plt.xlabel('Lokasi')\n",
    "plt.xticks(rotation=45, ha='right')\n",
    "plt.ylabel('Jumlah Rumah Dijual')\n",
    "plt.title('Jumlah Rumah Dijual Berdasarkan Lokasi')\n",
    "plt.figure(figsize=(15, 8))"
   ]
  },
  {
   "cell_type": "code",
   "execution_count": null,
   "id": "8c845636-05c9-4a49-809b-ac0fc4657e51",
   "metadata": {},
   "outputs": [],
   "source": [
    "# Create a boxplot\n",
    "sns.boxplot(\n",
    "    x = \"lokasi\",\n",
    "    y = \"harga\",\n",
    "    showmeans=True,  # Show means as points on top of the boxes\n",
    "    data=data)\n",
    "# Rotate x-axis labels for better readability\n",
    "plt.xticks(rotation=45)\n",
    "plt.title('Distribusi Harga Rumah Berdasarkan Lokasi')\n",
    "plt.xlabel('Lokasi')\n",
    "plt.ylabel('Harga Rumah')\n",
    "plt.tight_layout()\n",
    "plt.show()"
   ]
  },
  {
   "cell_type": "code",
   "execution_count": null,
   "id": "ee598d8f-b2ef-47ef-8a65-f84bdce53e76",
   "metadata": {},
   "outputs": [],
   "source": [
    "#Distribusi Harga di setiap lokasi\n",
    "harga_lokasi = data.groupby('lokasi')['harga'].describe()"
   ]
  },
  {
   "cell_type": "code",
   "execution_count": null,
   "id": "c72f25ce-9a58-4749-822a-8890875f9d6b",
   "metadata": {},
   "outputs": [],
   "source": [
    "harga_lokasi"
   ]
  },
  {
   "cell_type": "code",
   "execution_count": null,
   "id": "91095a8e-8a0f-4cbc-b253-4bba20835e78",
   "metadata": {},
   "outputs": [],
   "source": [
    "# Create a box plot of house price by house location\n",
    "sns.boxplot(\n",
    "    x = \"lokasi\",\n",
    "    y = \"harga\",\n",
    "    showmeans=True,  # Show the mean as a diamond\n",
    "    data=data\n",
    ")\n",
    "\n",
    "# Rotate x labels to prevent overlapping (optional)\n",
    "plt.xticks(rotation=45)  # Rotate x labels by 45 degrees\n",
    "\n",
    "# Add a title and labels\n",
    "plt.title(\"Distribution of House Price by Location\")\n",
    "plt.xlabel(\"Lokasi Rumah\")\n",
    "plt.ylabel(\"Harga\")\n",
    "\n",
    "# Show the plot\n",
    "plt.show()"
   ]
  },
  {
   "cell_type": "code",
   "execution_count": null,
   "id": "564f4974-cc5b-492a-99d3-9967ecb231f9",
   "metadata": {},
   "outputs": [],
   "source": [
    "data = data.join(pd.get_dummies(data.lokasi)).drop(['lokasi'], axis=1)"
   ]
  },
  {
   "cell_type": "code",
   "execution_count": null,
   "id": "6c8e52bf-8a87-4f0b-b6a6-e7bb5f40fbd3",
   "metadata": {},
   "outputs": [],
   "source": [
    "data"
   ]
  },
  {
   "cell_type": "code",
   "execution_count": null,
   "id": "328f2e71-f657-4f45-87af-70a6a1bfc19a",
   "metadata": {},
   "outputs": [],
   "source": [
    "# Select the columns that are numerical (dtype='int64' or 'float64')\n",
    "numerical_cols = data.select_dtypes(include=['int64', 'float64']).columns\n",
    "\n",
    "# Calculate the correlation matrix for the numerical columns\n",
    "corr_matrix = data[numerical_cols].corr()\n",
    "\n",
    "# Create the heatmap with annotations, colormap, and figure size\n",
    "sns.heatmap(corr_matrix, annot=True, cmap=\"YlGnBu\")\n",
    "plt.show()"
   ]
  },
  {
   "cell_type": "code",
   "execution_count": null,
   "id": "b2033d39-03a2-4fc5-81fa-81d1fded0eb7",
   "metadata": {},
   "outputs": [],
   "source": [
    "corr_matrix[\"harga\"].sort_values(ascending=False)"
   ]
  },
  {
   "cell_type": "code",
   "execution_count": null,
   "id": "0f776998-1849-49d7-9bb0-a52e7777d2c0",
   "metadata": {},
   "outputs": [],
   "source": [
    "fig = plt.figure(figsize=(12,10))\n",
    "#lb\n",
    "plt.subplot(321)\n",
    "sns.scatterplot(data=data, x='luas_bangunan', y=\"harga\")\n",
    "#km\n",
    "plt.subplot(322)\n",
    "sns.scatterplot(data=data, x='kamar_mandi', y=\"harga\")\n",
    "#kt\n",
    "plt.subplot(323)\n",
    "sns.scatterplot(data=data, x='kamar_tidur', y=\"harga\")\n",
    "#lt\n",
    "plt.subplot(324)\n",
    "sns.scatterplot(data=data, x='luas_tanah', y=\"harga\")\n",
    "#lantai\n",
    "plt.subplot(325)\n",
    "sns.scatterplot(data=data, x='lantai', y=\"harga\")"
   ]
  },
  {
   "cell_type": "code",
   "execution_count": null,
   "id": "bf4265ca-b2ab-4d09-b390-eacb1e337e75",
   "metadata": {},
   "outputs": [],
   "source": [
    "from sklearn.model_selection import train_test_split"
   ]
  },
  {
   "cell_type": "code",
   "execution_count": null,
   "id": "f0ae6d02-256c-4b0a-8ea8-2a71a124b650",
   "metadata": {},
   "outputs": [],
   "source": [
    "X = data.drop(['harga'], axis=1)\n",
    "y = data['harga']"
   ]
  },
  {
   "cell_type": "code",
   "execution_count": null,
   "id": "82208585-e5db-4639-a2e0-71229328be35",
   "metadata": {},
   "outputs": [],
   "source": [
    "X_train, X_test, y_train, y_test = train_test_split(X, y, test_size=0.2, random_state=42)"
   ]
  },
  {
   "cell_type": "code",
   "execution_count": null,
   "id": "ed625e74-09f5-494f-984b-cf633ffd5833",
   "metadata": {},
   "outputs": [],
   "source": [
    "train_data = X_train.join(y_train)"
   ]
  },
  {
   "cell_type": "code",
   "execution_count": null,
   "id": "2011197c-33c7-49ba-8ad7-505430c1eae6",
   "metadata": {},
   "outputs": [],
   "source": [
    "test_data = X_test.join(y_test)"
   ]
  },
  {
   "cell_type": "code",
   "execution_count": null,
   "id": "039213ac-adc7-4a79-8c9f-04f68e09719c",
   "metadata": {},
   "outputs": [],
   "source": [
    "print(X_train.shape, X_test.shape, y_train.shape, y_test.shape)"
   ]
  },
  {
   "cell_type": "code",
   "execution_count": null,
   "id": "76d729ac-3724-48ea-9ca5-f8330a6022e5",
   "metadata": {},
   "outputs": [],
   "source": [
    "data = pd.concat([train_data,test_data], axis=0)\n",
    "y_train = train_data['harga']\n",
    "data = data.drop(['harga'], axis=1)\n",
    "print(data.shape)"
   ]
  },
  {
   "cell_type": "code",
   "execution_count": null,
   "id": "d20c4b38-c36b-4777-97cd-4b931812de8c",
   "metadata": {},
   "outputs": [],
   "source": [
    "data.info()"
   ]
  },
  {
   "cell_type": "code",
   "execution_count": null,
   "id": "1fbf4b48-9153-4c67-ac00-74dace4f2b8e",
   "metadata": {},
   "outputs": [],
   "source": [
    "data.dtypes.value_counts().plot.pie()"
   ]
  },
  {
   "cell_type": "code",
   "execution_count": null,
   "id": "0cd83b89-c6a4-4c6c-af5c-28911cc58df8",
   "metadata": {},
   "outputs": [],
   "source": [
    "print('UNIQUE VALUES\\n')\n",
    "for col in data.columns:\n",
    "    print(f'{col}: {len(data[col].unique())}\\n')"
   ]
  },
  {
   "cell_type": "code",
   "execution_count": null,
   "id": "afe25db8-d329-4f0a-9270-57ea11602f89",
   "metadata": {},
   "outputs": [],
   "source": [
    "#Filling the numeric data\n",
    "numeric_missed = ['luas_tanah',\n",
    "'luas_bangunan',\n",
    "'kamar_tidur',\n",
    "'kamar_mandi',\n",
    "'lantai']\n",
    "for feature in numeric_missed:\n",
    "    data[feature] = data[feature].fillna(0)\n",
    "#Filling the categorical data\n",
    "categorical_missed = ['jakarta_pusat',\n",
    "'jakarta_utara',\n",
    "'jakarta_timur',\n",
    "'jakarta_selatan',\n",
    "'jakarta_barat']\n",
    "for feature in categorical_missed:\n",
    "    data[feature] = data[feature].fillna(data[feature].mode()[0])"
   ]
  },
  {
   "cell_type": "code",
   "execution_count": null,
   "id": "88d01dbc-8c9b-480b-a1a9-1d46076bfb2d",
   "metadata": {},
   "outputs": [],
   "source": [
    "#Checking for any remaining null values\n",
    "data.isnull().sum().max()"
   ]
  },
  {
   "cell_type": "code",
   "execution_count": null,
   "id": "63c8eace-23db-47c1-b17a-83d324ec56cc",
   "metadata": {},
   "outputs": [],
   "source": [
    "import scipy.stats as stats\n",
    "from scipy.stats import skew"
   ]
  },
  {
   "cell_type": "code",
   "execution_count": null,
   "id": "c546380b-48d3-4a24-9f9e-cd13983a2a9c",
   "metadata": {},
   "outputs": [],
   "source": [
    "#Top skewed columns\n",
    "numeric_features = data.dtypes[data.dtypes != 'object'].index\n",
    "skewed_features = data[numeric_features].apply(lambda x: skew(x)).sort_values(ascending=False)\n",
    "high_skew = skewed_features[abs(skewed_features) > 0.5]\n",
    "print(high_skew)"
   ]
  },
  {
   "cell_type": "code",
   "execution_count": null,
   "id": "64fa29c0-8351-4754-a3e4-074307dee88a",
   "metadata": {},
   "outputs": [],
   "source": [
    "#Transforming skewed columns\n",
    "for feature in high_skew.index:\n",
    "    data[feature] = np.log1p(data[feature])"
   ]
  },
  {
   "cell_type": "code",
   "execution_count": null,
   "id": "c7e12d2d-5629-4693-b83a-836b9f1a3bc7",
   "metadata": {},
   "outputs": [],
   "source": [
    "#Dividing data back into train & test\n",
    "train = data[:len(y_train)]\n",
    "test = data[len(y_test):]\n",
    "#Printing their shapes\n",
    "print(train.shape, test.shape)"
   ]
  },
  {
   "cell_type": "code",
   "execution_count": null,
   "id": "bfc2ea65-69aa-405a-b928-4040090c4942",
   "metadata": {},
   "outputs": [],
   "source": [
    "from sklearn.metrics import r2_score, mean_absolute_error, mean_squared_error, mean_absolute_percentage_error"
   ]
  },
  {
   "cell_type": "markdown",
   "id": "8a353bba-b7a7-45c2-bec0-4d64b91294d3",
   "metadata": {},
   "source": [
    "Linear Regression"
   ]
  },
  {
   "cell_type": "code",
   "execution_count": null,
   "id": "09b3811f-b5d5-4c65-ab87-20d7ef7aa089",
   "metadata": {},
   "outputs": [],
   "source": [
    "from sklearn.linear_model import LinearRegression\n",
    "lr = LinearRegression()\n",
    "lr.fit(X_train, y_train)"
   ]
  },
  {
   "cell_type": "code",
   "execution_count": null,
   "id": "0e435e28-9847-4faa-9af8-f7ddc268e1b9",
   "metadata": {},
   "outputs": [],
   "source": [
    "y_pred_train_lr = lr.predict(X_train)\n",
    "y_pred_test_lr = lr.predict(X_test)"
   ]
  },
  {
   "cell_type": "code",
   "execution_count": null,
   "id": "f798bcdd-4d83-4fdb-a117-ce21018f8b1b",
   "metadata": {},
   "outputs": [],
   "source": [
    "# Calculate R-squared for both training and testing sets\n",
    "r2_train = r2_score(y_train, y_pred_train_lr)\n",
    "r2_test = r2_score(y_test, y_pred_test_lr)\n",
    "print(\"Training R-squared:\", r2_train)\n",
    "print(\"Testing R-squared:\", r2_test)"
   ]
  },
  {
   "cell_type": "code",
   "execution_count": null,
   "id": "3c9c4fa7-a65e-4b79-a636-97f0ba314dc3",
   "metadata": {},
   "outputs": [],
   "source": [
    "# R-squared\n",
    "r2 = r2_score(y_test, y_pred_test_lr)\n",
    "# Mean Absolute Error (MAE)\n",
    "mae = mean_absolute_error(y_test, y_pred_test_lr)\n",
    "# Mean Squared Error (MSE)\n",
    "mse = mean_squared_error(y_test, y_pred_test_lr)\n",
    "# Mean Absolute Percentage Error (MAPE)\n",
    "mape = mean_absolute_percentage_error(y_test, y_pred_test_lr) * 100  # Convert to percentage\n",
    "\n",
    "print(\"R-squared:\", r2)\n",
    "print(\"MAE:\", mae)\n",
    "print(\"MSE:\", mse)\n",
    "print(\"MAPE:\", mape)"
   ]
  },
  {
   "cell_type": "markdown",
   "id": "9b6f3245-167a-4006-a778-a8b22ac0eaf4",
   "metadata": {},
   "source": [
    "Random Forest Regression"
   ]
  },
  {
   "cell_type": "code",
   "execution_count": null,
   "id": "4ef97ff5-6796-4699-8502-cd2bf3242f1e",
   "metadata": {},
   "outputs": [],
   "source": [
    "from sklearn.ensemble import RandomForestRegressor"
   ]
  },
  {
   "cell_type": "code",
   "execution_count": null,
   "id": "7dc30ba0-81cf-4f09-80a5-584fdace50b2",
   "metadata": {},
   "outputs": [],
   "source": [
    "from sklearn.ensemble import RandomForestRegressor\n",
    "\n",
    "# Default parameter pada RandomForestRegressor\n",
    "n_estimators = 100  # Number of decision trees\n",
    "max_depth = None  # Maximum depth of each tree\n",
    "min_samples_split = 2  # Minimum number of samples required to split a node\n",
    "min_samples_leaf = 1  # Minimum number of samples required at each leaf node\n",
    "\n",
    "# Create the model\n",
    "clf = RandomForestRegressor(n_estimators=n_estimators,\n",
    "                           max_depth=max_depth,\n",
    "                           min_samples_split=min_samples_split,\n",
    "                           min_samples_leaf=min_samples_leaf)"
   ]
  },
  {
   "cell_type": "code",
   "execution_count": null,
   "id": "3adc49d0-8cec-48fc-a4bc-14797aa6cdfa",
   "metadata": {},
   "outputs": [],
   "source": [
    "clf.fit(X_train, y_train)"
   ]
  },
  {
   "cell_type": "code",
   "execution_count": null,
   "id": "60454b9b-c1fd-4abc-bc3d-df014c4552c9",
   "metadata": {},
   "outputs": [],
   "source": [
    "clf.score(X_test,y_test)"
   ]
  },
  {
   "cell_type": "code",
   "execution_count": null,
   "id": "69f57e21-921c-4734-8d32-054ba782acb0",
   "metadata": {
    "scrolled": true
   },
   "outputs": [],
   "source": [
    "y_pred_train_rfr = clf.predict(X_train)"
   ]
  },
  {
   "cell_type": "code",
   "execution_count": null,
   "id": "264aab2a-020b-488b-8236-cbccf458628f",
   "metadata": {
    "scrolled": true
   },
   "outputs": [],
   "source": [
    "y_pred_test_rfr = clf.predict(X_test)"
   ]
  },
  {
   "cell_type": "code",
   "execution_count": null,
   "id": "c2625242-7472-47a7-bd38-9987f090961b",
   "metadata": {},
   "outputs": [],
   "source": [
    "# Calculate R-squared for both training and testing sets\n",
    "r2_train = r2_score(y_train, y_pred_train_rfr)\n",
    "r2_test = r2_score(y_test, y_pred_test_rfr)\n",
    "print(\"Training R-squared:\", r2_train)\n",
    "print(\"Testing R-squared:\", r2_test)"
   ]
  },
  {
   "cell_type": "code",
   "execution_count": null,
   "id": "cae60966-b73e-457a-8d79-986ad5953781",
   "metadata": {},
   "outputs": [],
   "source": [
    "# R-squared\n",
    "r2 = r2_score(y_test, y_pred_test_rfr)\n",
    "# Mean Absolute Error (MAE)\n",
    "mae = mean_absolute_error(y_test, y_pred_test_rfr)\n",
    "# Mean Squared Error (MSE)\n",
    "mse = mean_squared_error(y_test, y_pred_test_rfr)\n",
    "# Mean Absolute Percentage Error (MAPE)\n",
    "mape = mean_absolute_percentage_error(y_test, y_pred_test_rfr) * 100  # Convert to percentage\n",
    "\n",
    "print(\"R-squared:\", r2)\n",
    "print(\"MAE:\", mae)\n",
    "print(\"MSE:\", mse)\n",
    "print(\"MAPE:\", mape)"
   ]
  },
  {
   "cell_type": "code",
   "execution_count": null,
   "id": "93ac3b6d-1638-4472-bc3b-f226824ac1c5",
   "metadata": {},
   "outputs": [],
   "source": [
    "plt.scatter(y_test, y_pred_test);"
   ]
  },
  {
   "cell_type": "code",
   "execution_count": null,
   "id": "d33ff9dd-d057-42ca-86a9-3cbe7d4fbcb7",
   "metadata": {},
   "outputs": [],
   "source": [
    "# Calculate residuals (difference between actual and predicted)\n",
    "residuals = y_test - y_pred_test\n",
    "\n",
    "# Create a scatter plot of residuals vs y_test\n",
    "plt.scatter(y_test, residuals)\n",
    "\n",
    "# Add labels and title\n",
    "plt.xlabel(\"True Values (y_test)\")\n",
    "plt.ylabel(\"Residuals (y_test - y_pred_test)\")\n",
    "plt.title(\"Residual Plot\")\n",
    "\n",
    "plt.show()"
   ]
  },
  {
   "cell_type": "code",
   "execution_count": null,
   "id": "024d058e-4a5e-4739-933a-f2a0749372ae",
   "metadata": {},
   "outputs": [],
   "source": [
    "# Feature Importance\n",
    "importances = pd.DataFrame({'feature':X_train.columns,'importance':np.round(clf.feature_importances_,3)})\n",
    "importances = importances.sort_values('importance',ascending=False).set_index('feature')"
   ]
  },
  {
   "cell_type": "code",
   "execution_count": null,
   "id": "f3c64f3a-d4ec-45f8-8e68-173282e4fdb1",
   "metadata": {},
   "outputs": [],
   "source": [
    "importances.head(10)"
   ]
  },
  {
   "cell_type": "code",
   "execution_count": null,
   "id": "d6152e2e-748c-4f3f-811e-a971358c123d",
   "metadata": {},
   "outputs": [],
   "source": [
    "importances.plot.bar()"
   ]
  },
  {
   "cell_type": "code",
   "execution_count": null,
   "id": "e217df50-6bb0-4679-bdef-063e40c3140d",
   "metadata": {
    "scrolled": true
   },
   "outputs": [],
   "source": [
    "from sklearn.model_selection import GridSearchCV, cross_val_score\n",
    "from sklearn.metrics import mean_squared_error \n",
    "import random  # Import the random module\n",
    "\n",
    "# Define hyperparameter grid\n",
    "param_grid = {\n",
    "    'n_estimators': [50, 100, 200, 300],  # Number of trees\n",
    "    'max_depth': [1, 20, 50, 100],  # Maximum depth of trees\n",
    "    'min_samples_split': [2, 4, 8, 20],  # Minimum samples to split a node\n",
    "    'min_samples_leaf': [1, 5, 10, 20], # Minimum samples leaf\n",
    "    'max_features': ['auto', 'sqrt', 'log2'],\n",
    "}\n",
    "\n",
    "# Create and fit GridSearchCV object\n",
    "model_cv = GridSearchCV(RandomForestRegressor(), param_grid, cv=5)\n",
    "model_cv.fit(X_train, y_train)\n",
    "\n",
    "# Access best parameters and best model\n",
    "best_params = model_cv.best_params_\n",
    "best_model = model_cv.best_estimator_"
   ]
  },
  {
   "cell_type": "code",
   "execution_count": null,
   "id": "c415bf9d-8aef-406f-a112-99ef38f02692",
   "metadata": {},
   "outputs": [],
   "source": [
    "# Get the best model and its score\n",
    "best_score = model_cv.best_score_"
   ]
  },
  {
   "cell_type": "code",
   "execution_count": null,
   "id": "c7492e66-34e1-4252-9436-d7d953c240ad",
   "metadata": {},
   "outputs": [],
   "source": [
    "# Make predictions on test data\n",
    "y_pred = model_cv.best_estimator_.predict(X_test)\n",
    "\n",
    "# Calculate evaluation metrics\n",
    "r2 = r2_score(y_test, y_pred)\n",
    "mae = mean_absolute_error(y_test, y_pred)\n",
    "mse = mean_squared_error(y_test, y_pred)\n",
    "mape = mean_absolute_percentage_error(y_test, y_pred)\n",
    "\n",
    "# Print the results\n",
    "print(\"R-squared:\", r2)\n",
    "print(\"Mean Absolute Error (MAE):\", mae)\n",
    "print(\"Mean Squared Error (MSE):\", mse)\n",
    "print(\"Mean Absolute Percentage Error (MAPE):\", mape)"
   ]
  },
  {
   "cell_type": "code",
   "execution_count": null,
   "id": "9ae12deb-708f-4862-8585-342f83a7aa35",
   "metadata": {},
   "outputs": [],
   "source": [
    "random_forest_oob = RandomForestRegressor(oob_score=True)\n",
    "random_forest_oob.fit(X_train, y_train)\n",
    "print(random_forest_oob.oob_score_)"
   ]
  },
  {
   "cell_type": "code",
   "execution_count": null,
   "id": "7abca4be-63ea-467c-8e5a-deb6abc20af6",
   "metadata": {},
   "outputs": [],
   "source": [
    "plt.scatter(X_test['luas_tanah'].values, y_test, color = 'green') #actual data\n",
    "plt.scatter(X_test['luas_tanah'].values, y_pred, color = 'blue') #predicted data\n",
    "plt.title('Random Forest Regression')\n",
    "plt.xlabel('RM')\n",
    "plt.ylabel('Harga')\n",
    "plt.show() "
   ]
  }
 ],
 "metadata": {
  "kernelspec": {
   "display_name": "Python 3 (ipykernel)",
   "language": "python",
   "name": "python3"
  },
  "language_info": {
   "codemirror_mode": {
    "name": "ipython",
    "version": 3
   },
   "file_extension": ".py",
   "mimetype": "text/x-python",
   "name": "python",
   "nbconvert_exporter": "python",
   "pygments_lexer": "ipython3",
   "version": "3.12.3"
  }
 },
 "nbformat": 4,
 "nbformat_minor": 5
}
